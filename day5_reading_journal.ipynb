{
 "cells": [
  {
   "cell_type": "markdown",
   "metadata": {},
   "source": [
    "# Day 5 Reading Journal\n",
    "\n",
    "This journal includes several required exercises, but it is meant to encourage active reading more generally.  You should use the journal to take detailed notes, catalog questions, and explore the content from Think Python deeply.\n",
    "\n",
    "Reading: Think Python Chapter 4\n",
    "\n",
    "**Due: Monday, February 8 at 12 noon**\n",
    "\n"
   ]
  },
  {
   "cell_type": "markdown",
   "metadata": {},
   "source": [
    "## [Chapter 4](http://www.greenteapress.com/thinkpython/html/thinkpython005.html)\n",
    "\n",
    "In today's reading, you'll be exploring TurtleWorld!\n",
    "TurtleWorld is part of the [swampy](http://www.greenteapress.com/thinkpython/swampy/) package, written by Allen Downey.\n",
    "As part of the [Get Set](https://sites.google.com/site/sd16spring/home/assignments-and-mini-projects/setup-your-environment) assignment, you installed the swampy package using the pip Python package management tool. If you somehow missed that step or you see errors when you try to import TurtleWorld, you can install swampy by running:\n",
    "\n",
    "```\n",
    "sudo pip install swampy\n",
    "```\n",
    "\n",
    "at the command line.\n",
    "\n",
    "### Turtle wrangling\n",
    "\n",
    "You can always run your code as separate Python scripts, but here are a few tips for mixing TurtleWorld with Jupyter notebook:\n",
    "\n",
    " - TurtleWorld will appear in a new GUI window, rather than inline in the notebook like typical results do\n",
    " - You will not be able to close the TurtleWorld window unless you run `wait_for_user()` as the last line of your code.\n",
    " - Jupyter notebook works like one big Python script, even though it is broken up into sections. This means that you could create a Turtle in one cell, move it in a later cell, and then `wait_for_user()` in yet another. Despite this, it might be easier to treat each cell in this assignment as a separate script, creating a new world at the beginning and destroying it at the end of each."
   ]
  },
  {
   "cell_type": "markdown",
   "metadata": {},
   "source": [
    "### Get started\n",
    "\n",
    "Run the code in the cell below and make sure everything works. You should see brave Alice spring into the world and run forward. You can close the window when you're done by clicking on the 'X'. If this simple test doesn't work, check your swampy install (especially if you get an `ImportError`) and ask for help."
   ]
  },
  {
   "cell_type": "code",
   "execution_count": 2,
   "metadata": {
    "collapsed": true
   },
   "outputs": [],
   "source": [
    "from swampy.TurtleWorld import *\n",
    "\n",
    "# Create the world, and a turtle to put in it\n",
    "world = TurtleWorld()\n",
    "alice = Turtle()\n",
    "\n",
    "# Get moving, turtle!\n",
    "fd(alice, 50)\n",
    "\n",
    "# Wait for the user to close the window\n",
    "wait_for_user()"
   ]
  },
  {
   "cell_type": "markdown",
   "metadata": {
    "is_question": true,
    "problem": "Section 4.3"
   },
   "source": [
    "### Section 4.3 exercises\n",
    "Work through exercises 1-5 in Section 4.3, creating the `square`, `polygon`, `circle`, and `arc` functions. You can reference Allen's solutions, but please try the problems on your own first."
   ]
  },
  {
   "cell_type": "code",
   "execution_count": 3,
   "metadata": {
    "collapsed": false,
    "solution": "Section 4.3"
   },
   "outputs": [],
   "source": [
    "from math import pi\n",
    "\n",
    "world = TurtleWorld()\n",
    "bob = Turtle()\n",
    "bob.delay = 0.05\n",
    "\n",
    "def square(turtle, length):\n",
    "    for i in range(4):\n",
    "        turtle.fd(length)\n",
    "        turtle.lt()\n",
    "square(bob, 50)\n",
    "\n",
    "def polygon(turtle, length, sides):\n",
    "    for i in range(sides):\n",
    "        turtle.fd(length)\n",
    "        turtle.lt(360.0/sides)\n",
    "        \n",
    "polygon(bob, 100, 6)\n",
    "        \n",
    "def circle(turtle, radius):\n",
    "    circumference = 2 * pi * radius\n",
    "    sides = 40\n",
    "    polygon(turtle, circumference/sides, sides)\n",
    "\n",
    "circle(bob, 50)\n",
    "\n",
    "def arc(turtle, radius, angle):\n",
    "    sides = 40\n",
    "    length = 2 * pi * radius / sides\n",
    "    for i in range(sides):\n",
    "        turtle.fd(length/(360.0/angle))\n",
    "        turtle.lt(float(angle)/sides)\n",
    "arc(bob, 25, 180)\n",
    "\n",
    "\n",
    "wait_for_user()"
   ]
  },
  {
   "cell_type": "markdown",
   "metadata": {
    "is_question": true,
    "problem": "More fun"
   },
   "source": [
    "### Exercise: More fun with Turtles!\n",
    "Complete at least one of Exercise 2, 3, 4, or 5. If you come up with some cool drawings you'd like to share with the rest of the class, let us know!"
   ]
  },
  {
   "cell_type": "code",
   "execution_count": null,
   "metadata": {
    "collapsed": false,
    "solution": "More fun"
   },
   "outputs": [],
   "source": [
    "from math import pi\n",
    "\n",
    "world = TurtleWorld()\n",
    "\n",
    "def draw_flower(turtle, petals, radius, angle):\n",
    "    for i in range(petals):\n",
    "        petal(turtle, radius, angle)\n",
    "        turtle.lt(360.0/petals)\n",
    "    \n",
    "def petal(turtle, radius, angle):\n",
    "    for i in range(2):\n",
    "        draw_arc(turtle, radius, angle)\n",
    "        turtle.lt(180 - angle)\n",
    "    \n",
    "def draw_arc(turtle, radius, angle):\n",
    "    steps = 20\n",
    "    arc_length = 2 * pi * radius * (angle / 360.0)\n",
    "    step_length = arc_length / steps\n",
    "    step_angle = float(angle) / steps\n",
    "    for i in range(steps):\n",
    "        turtle.fd(step_length)\n",
    "        turtle.lt(step_angle)\n",
    "\n",
    "bob = Turtle()\n",
    "bob.delay = 0.001\n",
    "draw_flower(bob, 100, 200, 60)\n",
    "\n",
    "wait_for_user()"
   ]
  },
  {
   "cell_type": "markdown",
   "metadata": {},
   "source": [
    "## Reading Journal feedback\n",
    "\n",
    "Have any comments on this Reading Journal? Feel free to leave them below and we'll read them when you submit your journal entry. This could include suggestions to improve the exercises, topics you'd like to see covered in class next time, or other feedback.\n",
    "\n",
    "If you have Python questions or run into problems while completing the reading, you should post them to Piazza instead so you can get a quick response before your journal is submitted."
   ]
  },
  {
   "cell_type": "markdown",
   "metadata": {},
   "source": [
    " "
   ]
  }
 ],
 "metadata": {
  "kernelspec": {
   "display_name": "Python 2",
   "language": "python",
   "name": "python2"
  },
  "language_info": {
   "codemirror_mode": {
    "name": "ipython",
    "version": 2
   },
   "file_extension": ".py",
   "mimetype": "text/x-python",
   "name": "python",
   "nbconvert_exporter": "python",
   "pygments_lexer": "ipython2",
   "version": "2.7.11"
  }
 },
 "nbformat": 4,
 "nbformat_minor": 0
}
